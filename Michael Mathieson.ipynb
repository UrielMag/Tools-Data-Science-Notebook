{
 "cells": [
  {
   "cell_type": "markdown",
   "id": "f9f355e1-a717-4aad-85fe-cce3f2dd0802",
   "metadata": {},
   "source": [
    "<h1>My Jupyter Notebook</h1>"
   ]
  },
  {
   "cell_type": "markdown",
   "id": "6a77c129-a3a6-48f9-9f3e-60074bfad812",
   "metadata": {},
   "source": [
    "<b>Michael Mathieson</b> \n",
    "\n",
    "<p>My current occupation is a Secondary Computer Science Teacher. Prior to this I managed Fraud Investigations for the past 10 years. Ideally, in the future, I would like to return to manage fraud analytics.</p>"
   ]
  },
  {
   "cell_type": "markdown",
   "id": "aafd1564-2603-4e95-954e-c9a47f1aff46",
   "metadata": {},
   "source": [
    "<p><i>I am interested in Data Science for a number of reasons, firstly i´ve spent years looking at information, transactions, audit trails etc. and having to often spend many hours trying to piece bits of information together manually or with SQL. I´ve always been someone who likes to find a better way to solve problems.\n",
    "    \n",
    "Since teaching Computer Science, it is something I have become more interested in, teaching students about how to approach Data Science tasks and then ultimately doing something with the data and explaining their stories or research better</i></p>"
   ]
  },
  {
   "cell_type": "markdown",
   "id": "d7262382-1b05-41fc-93d2-c1844e27e9c0",
   "metadata": {},
   "source": [
    "<h3>The following code below is a piece of python code which i have covered with my Year 11 class. The code is about writing information to a text file for 4 players of a game using a for loop to iterate through the number of players before finally the file is closed. In the Integrated Development Environment it should have then created a text file with the information added to it on a seperate line for each player.</h3>"
   ]
  },
  {
   "cell_type": "code",
   "execution_count": 1,
   "id": "f031b1e8-cf98-40d7-9738-36db68f812c7",
   "metadata": {},
   "outputs": [
    {
     "name": "stdout",
     "output_type": "stream",
     "text": [
      "Enter player 1\n"
     ]
    },
    {
     "name": "stdin",
     "output_type": "stream",
     "text": [
      " Michael\n"
     ]
    },
    {
     "name": "stdout",
     "output_type": "stream",
     "text": [
      "Enter player 2\n"
     ]
    },
    {
     "name": "stdin",
     "output_type": "stream",
     "text": [
      " Steve\n"
     ]
    },
    {
     "name": "stdout",
     "output_type": "stream",
     "text": [
      "Enter player 3\n"
     ]
    },
    {
     "name": "stdin",
     "output_type": "stream",
     "text": [
      " Dave\n"
     ]
    },
    {
     "name": "stdout",
     "output_type": "stream",
     "text": [
      "Enter player 4\n"
     ]
    },
    {
     "name": "stdin",
     "output_type": "stream",
     "text": [
      " Joe\n"
     ]
    }
   ],
   "source": [
    "players = \"\"\n",
    "\n",
    "for x in range(1, 5):\n",
    "    print(f\"Enter player {x}\")\n",
    "    player = input()\n",
    "    players = players + player + \"\\n\"\n",
    "    \n",
    "file = open(\"players.txt\", \"w\")\n",
    "file.write(players)\n",
    "file.close()"
   ]
  },
  {
   "cell_type": "markdown",
   "id": "289751f3-2090-4ef1-b52e-170133101b69",
   "metadata": {},
   "source": [
    "<ul>\n",
    "  <li>Player 1 Score</li>\n",
    "  <li>Player 2 Score</li>\n",
    "  <li>Player 3 Score</li>\n",
    "  <li>Player 4 Score</li>\n",
    "</ul>"
   ]
  },
  {
   "cell_type": "code",
   "execution_count": null,
   "id": "f5b89a7d-cd02-4848-b194-0856fd90c1ff",
   "metadata": {},
   "outputs": [],
   "source": []
  }
 ],
 "metadata": {
  "kernelspec": {
   "display_name": "Python 3 (ipykernel)",
   "language": "python",
   "name": "python3"
  },
  "language_info": {
   "codemirror_mode": {
    "name": "ipython",
    "version": 3
   },
   "file_extension": ".py",
   "mimetype": "text/x-python",
   "name": "python",
   "nbconvert_exporter": "python",
   "pygments_lexer": "ipython3",
   "version": "3.9.13"
  }
 },
 "nbformat": 4,
 "nbformat_minor": 5
}
